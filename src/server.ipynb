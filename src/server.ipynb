{
 "cells": [
  {
   "cell_type": "code",
   "execution_count": 9,
   "metadata": {
    "tags": []
   },
   "outputs": [
    {
     "output_type": "execute_result",
     "data": {
      "text/plain": "             Timestamp  Exhaustors  Alarm  FireControl  \\\n0  2020-08-31-20:21:52        True  False        False   \n1  2020-08-31-20:21:53        True  False        False   \n2  2020-08-31-20:21:55        True  False        False   \n3  2020-08-31-20:21:56        True  False        False   \n4  2020-08-31-20:21:57        True  False        False   \n\n   AirClimatizer_0_Compressor  AirClimatizer_0_Heating  \\\n0                       False                    False   \n1                       False                    False   \n2                       False                    False   \n3                       False                    False   \n4                       False                    False   \n\n   AirClimatizer_0_Temperatures_Tube  AirClimatizer_0_Temperatures_Outside  \\\n0                              21.89                                   200   \n1                              22.10                                   200   \n2                              22.10                                   200   \n3                              22.10                                   200   \n4                              22.10                                   200   \n\n   AirClimatizer_0_Temperatures_Condensing  \\\n0                                    22.79   \n1                                    22.79   \n2                                    22.79   \n3                                    22.79   \n4                                    22.79   \n\n   AirClimatizer_0_Temperatures_Inside  ...  AirClimatizer_1_Compressor  \\\n0                                 21.6  ...                       False   \n1                                 21.7  ...                       False   \n2                                 21.7  ...                       False   \n3                                 21.7  ...                       False   \n4                                 21.7  ...                       False   \n\n   AirClimatizer_1_Heating  AirClimatizer_1_Temperatures_Tube  \\\n0                    False                                200   \n1                    False                                200   \n2                    False                                200   \n3                    False                                200   \n4                    False                                200   \n\n   AirClimatizer_1_Temperatures_Outside  \\\n0                                   200   \n1                                   200   \n2                                   200   \n3                                   200   \n4                                   200   \n\n   AirClimatizer_1_Temperatures_Condensing  \\\n0                                     26.2   \n1                                     26.2   \n2                                     26.2   \n3                                     26.0   \n4                                     26.0   \n\n   AirClimatizer_1_Temperatures_Inside  AirClimatizer_1_Humidity  \\\n0                                20.29                        62   \n1                                20.29                        62   \n2                                20.29                        62   \n3                                20.60                        63   \n4                                20.60                        63   \n\n   AirClimatizer_1_Fan_Inside  AirClimatizer_1_Fan_Outside  \\\n0                        True                        False   \n1                        True                        False   \n2                        True                        False   \n3                        True                        False   \n4                        True                        False   \n\n   AirClimatizer_1_Fan_Emergency  \n0                          False  \n1                          False  \n2                          False  \n3                          False  \n4                          False  \n\n[5 rows x 24 columns]",
      "text/html": "<div>\n<style scoped>\n    .dataframe tbody tr th:only-of-type {\n        vertical-align: middle;\n    }\n\n    .dataframe tbody tr th {\n        vertical-align: top;\n    }\n\n    .dataframe thead th {\n        text-align: right;\n    }\n</style>\n<table border=\"1\" class=\"dataframe\">\n  <thead>\n    <tr style=\"text-align: right;\">\n      <th></th>\n      <th>Timestamp</th>\n      <th>Exhaustors</th>\n      <th>Alarm</th>\n      <th>FireControl</th>\n      <th>AirClimatizer_0_Compressor</th>\n      <th>AirClimatizer_0_Heating</th>\n      <th>AirClimatizer_0_Temperatures_Tube</th>\n      <th>AirClimatizer_0_Temperatures_Outside</th>\n      <th>AirClimatizer_0_Temperatures_Condensing</th>\n      <th>AirClimatizer_0_Temperatures_Inside</th>\n      <th>...</th>\n      <th>AirClimatizer_1_Compressor</th>\n      <th>AirClimatizer_1_Heating</th>\n      <th>AirClimatizer_1_Temperatures_Tube</th>\n      <th>AirClimatizer_1_Temperatures_Outside</th>\n      <th>AirClimatizer_1_Temperatures_Condensing</th>\n      <th>AirClimatizer_1_Temperatures_Inside</th>\n      <th>AirClimatizer_1_Humidity</th>\n      <th>AirClimatizer_1_Fan_Inside</th>\n      <th>AirClimatizer_1_Fan_Outside</th>\n      <th>AirClimatizer_1_Fan_Emergency</th>\n    </tr>\n  </thead>\n  <tbody>\n    <tr>\n      <th>0</th>\n      <td>2020-08-31-20:21:52</td>\n      <td>True</td>\n      <td>False</td>\n      <td>False</td>\n      <td>False</td>\n      <td>False</td>\n      <td>21.89</td>\n      <td>200</td>\n      <td>22.79</td>\n      <td>21.6</td>\n      <td>...</td>\n      <td>False</td>\n      <td>False</td>\n      <td>200</td>\n      <td>200</td>\n      <td>26.2</td>\n      <td>20.29</td>\n      <td>62</td>\n      <td>True</td>\n      <td>False</td>\n      <td>False</td>\n    </tr>\n    <tr>\n      <th>1</th>\n      <td>2020-08-31-20:21:53</td>\n      <td>True</td>\n      <td>False</td>\n      <td>False</td>\n      <td>False</td>\n      <td>False</td>\n      <td>22.10</td>\n      <td>200</td>\n      <td>22.79</td>\n      <td>21.7</td>\n      <td>...</td>\n      <td>False</td>\n      <td>False</td>\n      <td>200</td>\n      <td>200</td>\n      <td>26.2</td>\n      <td>20.29</td>\n      <td>62</td>\n      <td>True</td>\n      <td>False</td>\n      <td>False</td>\n    </tr>\n    <tr>\n      <th>2</th>\n      <td>2020-08-31-20:21:55</td>\n      <td>True</td>\n      <td>False</td>\n      <td>False</td>\n      <td>False</td>\n      <td>False</td>\n      <td>22.10</td>\n      <td>200</td>\n      <td>22.79</td>\n      <td>21.7</td>\n      <td>...</td>\n      <td>False</td>\n      <td>False</td>\n      <td>200</td>\n      <td>200</td>\n      <td>26.2</td>\n      <td>20.29</td>\n      <td>62</td>\n      <td>True</td>\n      <td>False</td>\n      <td>False</td>\n    </tr>\n    <tr>\n      <th>3</th>\n      <td>2020-08-31-20:21:56</td>\n      <td>True</td>\n      <td>False</td>\n      <td>False</td>\n      <td>False</td>\n      <td>False</td>\n      <td>22.10</td>\n      <td>200</td>\n      <td>22.79</td>\n      <td>21.7</td>\n      <td>...</td>\n      <td>False</td>\n      <td>False</td>\n      <td>200</td>\n      <td>200</td>\n      <td>26.0</td>\n      <td>20.60</td>\n      <td>63</td>\n      <td>True</td>\n      <td>False</td>\n      <td>False</td>\n    </tr>\n    <tr>\n      <th>4</th>\n      <td>2020-08-31-20:21:57</td>\n      <td>True</td>\n      <td>False</td>\n      <td>False</td>\n      <td>False</td>\n      <td>False</td>\n      <td>22.10</td>\n      <td>200</td>\n      <td>22.79</td>\n      <td>21.7</td>\n      <td>...</td>\n      <td>False</td>\n      <td>False</td>\n      <td>200</td>\n      <td>200</td>\n      <td>26.0</td>\n      <td>20.60</td>\n      <td>63</td>\n      <td>True</td>\n      <td>False</td>\n      <td>False</td>\n    </tr>\n  </tbody>\n</table>\n<p>5 rows × 24 columns</p>\n</div>"
     },
     "metadata": {},
     "execution_count": 9
    }
   ],
   "source": [
    "import types\n",
    "import pandas as pd\n",
    "\n",
    "data = pd.read_csv ('../Imports/bess-actuators.csv',sep=';')\n",
    "\n",
    "data.head()"
   ]
  },
  {
   "cell_type": "code",
   "execution_count": 10,
   "metadata": {
    "tags": []
   },
   "outputs": [
    {
     "output_type": "stream",
     "name": "stdout",
     "text": "<class 'pandas.core.frame.DataFrame'>\nRangeIndex: 19587 entries, 0 to 19586\nData columns (total 24 columns):\n #   Column                                   Non-Null Count  Dtype  \n---  ------                                   --------------  -----  \n 0   Timestamp                                19587 non-null  object \n 1   Exhaustors                               19587 non-null  bool   \n 2   Alarm                                    19587 non-null  bool   \n 3   FireControl                              19587 non-null  bool   \n 4   AirClimatizer_0_Compressor               19587 non-null  bool   \n 5   AirClimatizer_0_Heating                  19587 non-null  bool   \n 6   AirClimatizer_0_Temperatures_Tube        19587 non-null  float64\n 7   AirClimatizer_0_Temperatures_Outside     19587 non-null  int64  \n 8   AirClimatizer_0_Temperatures_Condensing  19587 non-null  float64\n 9   AirClimatizer_0_Temperatures_Inside      19587 non-null  float64\n 10  AirClimatizer_0_Humidity                 19587 non-null  int64  \n 11  AirClimatizer_0_Fan_Inside               19587 non-null  bool   \n 12  AirClimatizer_0_Fan_Outside              19587 non-null  bool   \n 13  AirClimatizer_0_Fan_Emergency            19587 non-null  bool   \n 14  AirClimatizer_1_Compressor               19587 non-null  bool   \n 15  AirClimatizer_1_Heating                  19587 non-null  bool   \n 16  AirClimatizer_1_Temperatures_Tube        19587 non-null  int64  \n 17  AirClimatizer_1_Temperatures_Outside     19587 non-null  int64  \n 18  AirClimatizer_1_Temperatures_Condensing  19587 non-null  float64\n 19  AirClimatizer_1_Temperatures_Inside      19587 non-null  float64\n 20  AirClimatizer_1_Humidity                 19587 non-null  int64  \n 21  AirClimatizer_1_Fan_Inside               19587 non-null  bool   \n 22  AirClimatizer_1_Fan_Outside              19587 non-null  bool   \n 23  AirClimatizer_1_Fan_Emergency            19587 non-null  bool   \ndtypes: bool(13), float64(5), int64(5), object(1)\nmemory usage: 1.9+ MB\n"
    }
   ],
   "source": [
    "data.info()\n"
   ]
  },
  {
   "cell_type": "code",
   "execution_count": 11,
   "metadata": {},
   "outputs": [
    {
     "output_type": "execute_result",
     "data": {
      "text/plain": "       AirClimatizer_0_Temperatures_Tube  \\\ncount                       19587.000000   \nmean                           22.326839   \nstd                             0.308875   \nmin                            21.700000   \n25%                            22.100000   \n50%                            22.290000   \n75%                            22.500000   \nmax                            23.500000   \n\n       AirClimatizer_0_Temperatures_Outside  \\\ncount                               19587.0   \nmean                                  200.0   \nstd                                     0.0   \nmin                                   200.0   \n25%                                   200.0   \n50%                                   200.0   \n75%                                   200.0   \nmax                                   200.0   \n\n       AirClimatizer_0_Temperatures_Condensing  \\\ncount                             19587.000000   \nmean                                 22.116325   \nstd                                   0.402190   \nmin                                  21.390000   \n25%                                  21.700000   \n50%                                  22.100000   \n75%                                  22.500000   \nmax                                  23.100000   \n\n       AirClimatizer_0_Temperatures_Inside  AirClimatizer_0_Humidity  \\\ncount                         19587.000000              19587.000000   \nmean                             22.063357                 62.647777   \nstd                               0.320262                  2.890943   \nmin                              20.700000                 57.000000   \n25%                              21.890000                 60.000000   \n50%                              22.000000                 62.000000   \n75%                              22.290000                 64.000000   \nmax                              23.000000                 70.000000   \n\n       AirClimatizer_1_Temperatures_Tube  \\\ncount                            19587.0   \nmean                               200.0   \nstd                                  0.0   \nmin                                200.0   \n25%                                200.0   \n50%                                200.0   \n75%                                200.0   \nmax                                200.0   \n\n       AirClimatizer_1_Temperatures_Outside  \\\ncount                               19587.0   \nmean                                  200.0   \nstd                                     0.0   \nmin                                   200.0   \n25%                                   200.0   \n50%                                   200.0   \n75%                                   200.0   \nmax                                   200.0   \n\n       AirClimatizer_1_Temperatures_Condensing  \\\ncount                             19587.000000   \nmean                                 28.534094   \nstd                                   4.443877   \nmin                                  23.100000   \n25%                                  25.290000   \n50%                                  26.290000   \n75%                                  31.290000   \nmax                                  41.900000   \n\n       AirClimatizer_1_Temperatures_Inside  AirClimatizer_1_Humidity  \ncount                         19587.000000              19587.000000  \nmean                             20.672653                 64.780518  \nstd                               0.544237                  2.918595  \nmin                              19.890000                 60.000000  \n25%                              20.290000                 62.000000  \n50%                              20.500000                 64.000000  \n75%                              20.700000                 67.000000  \nmax                              22.200000                 72.000000  ",
      "text/html": "<div>\n<style scoped>\n    .dataframe tbody tr th:only-of-type {\n        vertical-align: middle;\n    }\n\n    .dataframe tbody tr th {\n        vertical-align: top;\n    }\n\n    .dataframe thead th {\n        text-align: right;\n    }\n</style>\n<table border=\"1\" class=\"dataframe\">\n  <thead>\n    <tr style=\"text-align: right;\">\n      <th></th>\n      <th>AirClimatizer_0_Temperatures_Tube</th>\n      <th>AirClimatizer_0_Temperatures_Outside</th>\n      <th>AirClimatizer_0_Temperatures_Condensing</th>\n      <th>AirClimatizer_0_Temperatures_Inside</th>\n      <th>AirClimatizer_0_Humidity</th>\n      <th>AirClimatizer_1_Temperatures_Tube</th>\n      <th>AirClimatizer_1_Temperatures_Outside</th>\n      <th>AirClimatizer_1_Temperatures_Condensing</th>\n      <th>AirClimatizer_1_Temperatures_Inside</th>\n      <th>AirClimatizer_1_Humidity</th>\n    </tr>\n  </thead>\n  <tbody>\n    <tr>\n      <th>count</th>\n      <td>19587.000000</td>\n      <td>19587.0</td>\n      <td>19587.000000</td>\n      <td>19587.000000</td>\n      <td>19587.000000</td>\n      <td>19587.0</td>\n      <td>19587.0</td>\n      <td>19587.000000</td>\n      <td>19587.000000</td>\n      <td>19587.000000</td>\n    </tr>\n    <tr>\n      <th>mean</th>\n      <td>22.326839</td>\n      <td>200.0</td>\n      <td>22.116325</td>\n      <td>22.063357</td>\n      <td>62.647777</td>\n      <td>200.0</td>\n      <td>200.0</td>\n      <td>28.534094</td>\n      <td>20.672653</td>\n      <td>64.780518</td>\n    </tr>\n    <tr>\n      <th>std</th>\n      <td>0.308875</td>\n      <td>0.0</td>\n      <td>0.402190</td>\n      <td>0.320262</td>\n      <td>2.890943</td>\n      <td>0.0</td>\n      <td>0.0</td>\n      <td>4.443877</td>\n      <td>0.544237</td>\n      <td>2.918595</td>\n    </tr>\n    <tr>\n      <th>min</th>\n      <td>21.700000</td>\n      <td>200.0</td>\n      <td>21.390000</td>\n      <td>20.700000</td>\n      <td>57.000000</td>\n      <td>200.0</td>\n      <td>200.0</td>\n      <td>23.100000</td>\n      <td>19.890000</td>\n      <td>60.000000</td>\n    </tr>\n    <tr>\n      <th>25%</th>\n      <td>22.100000</td>\n      <td>200.0</td>\n      <td>21.700000</td>\n      <td>21.890000</td>\n      <td>60.000000</td>\n      <td>200.0</td>\n      <td>200.0</td>\n      <td>25.290000</td>\n      <td>20.290000</td>\n      <td>62.000000</td>\n    </tr>\n    <tr>\n      <th>50%</th>\n      <td>22.290000</td>\n      <td>200.0</td>\n      <td>22.100000</td>\n      <td>22.000000</td>\n      <td>62.000000</td>\n      <td>200.0</td>\n      <td>200.0</td>\n      <td>26.290000</td>\n      <td>20.500000</td>\n      <td>64.000000</td>\n    </tr>\n    <tr>\n      <th>75%</th>\n      <td>22.500000</td>\n      <td>200.0</td>\n      <td>22.500000</td>\n      <td>22.290000</td>\n      <td>64.000000</td>\n      <td>200.0</td>\n      <td>200.0</td>\n      <td>31.290000</td>\n      <td>20.700000</td>\n      <td>67.000000</td>\n    </tr>\n    <tr>\n      <th>max</th>\n      <td>23.500000</td>\n      <td>200.0</td>\n      <td>23.100000</td>\n      <td>23.000000</td>\n      <td>70.000000</td>\n      <td>200.0</td>\n      <td>200.0</td>\n      <td>41.900000</td>\n      <td>22.200000</td>\n      <td>72.000000</td>\n    </tr>\n  </tbody>\n</table>\n</div>"
     },
     "metadata": {},
     "execution_count": 11
    }
   ],
   "source": [
    "data.describe()"
   ]
  },
  {
   "cell_type": "code",
   "execution_count": 12,
   "metadata": {},
   "outputs": [],
   "source": [
    "import matplotlib.pyplot as plt\n",
    "import seaborn as sns\n",
    "%matplotlib inline"
   ]
  },
  {
   "cell_type": "code",
   "execution_count": null,
   "metadata": {},
   "outputs": [],
   "source": [
    "from sklearn.base import BaseEstimator, TransformerMixin\n",
    "\n",
    "class DropColumns(BaseEstimator, TransformerMixin):\n",
    "    def __init__(self, columns):\n",
    "        self.columns = columns\n",
    "\n",
    "    def fit(self, X, y=None):\n",
    "        return self\n",
    "    \n",
    "    def transform(self, X):\n",
    "        # Primeiro realizamos a cópia do dataframe 'X' de entrada\n",
    "        data = X.copy()\n",
    "        # Retornamos um novo dataframe sem as colunas indesejadas\n",
    "        return data.drop(labels=self.columns, axis='columns')"
   ]
  },
  {
   "cell_type": "code",
   "execution_count": null,
   "metadata": {},
   "outputs": [],
   "source": [
    "rm_columns = DropColumns(\n",
    "    columns=[\"\"]  # Essa transformação recebe como parâmetro uma lista com os nomes das colunas indesejadas\n",
    ")\n",
    "\n",
    "print(rm_columns)"
   ]
  }
 ],
 "metadata": {
  "kernelspec": {
   "display_name": "Python 3",
   "language": "python",
   "name": "python3"
  },
  "language_info": {
   "codemirror_mode": {
    "name": "ipython",
    "version": 3
   },
   "file_extension": ".py",
   "mimetype": "text/x-python",
   "name": "python",
   "nbconvert_exporter": "python",
   "pygments_lexer": "ipython3",
   "version": "3.6.8-final"
  }
 },
 "nbformat": 4,
 "nbformat_minor": 4
}